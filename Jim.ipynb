{
 "cells": [
  {
   "cell_type": "markdown",
   "metadata": {},
   "source": [
    "# Analysis of COVID-19 data\n",
    "With help from Carmen and her associates!"
   ]
  },
  {
   "cell_type": "code",
   "execution_count": null,
   "metadata": {},
   "outputs": [],
   "source": [
    "from pathlib import Path\n",
    "from process_covid import (load_covid_data,\n",
    "                           cases_per_population_by_age,\n",
    "                           hospital_vs_confirmed,\n",
    "                           create_confirmed_plot,\n",
    "                           count_high_rain_low_tests_days)"
   ]
  },
  {
   "cell_type": "markdown",
   "metadata": {},
   "source": [
    "The data for each area is held in a specific file. Start by loading it in."
   ]
  },
  {
   "cell_type": "code",
   "execution_count": null,
   "metadata": {},
   "outputs": [],
   "source": [
    "data_directory = Path(\"covid_data\")\n",
    "data_file = \"ER-Mi-EV_2020-03-16_2020-04-24.json\"\n",
    "data_er = load_covid_data(data_directory / data_file)"
   ]
  },
  {
   "cell_type": "markdown",
   "metadata": {},
   "source": [
    "And now I can use this variable to do my different analyses.\n",
    "\n",
    "First, I want to see how the number of cases has changed across time, but separated into age groups. This will help me find age-dependent patterns in the spread of the virus."
   ]
  },
  {
   "cell_type": "code",
   "execution_count": null,
   "metadata": {},
   "outputs": [],
   "source": [
    "cases_population = cases_per_population_by_age(data_er)\n",
    "cases_population.get('0-24', \"No data in that bin\")"
   ]
  },
  {
   "cell_type": "markdown",
   "metadata": {},
   "source": [
    "I am also interested in how many cases end up in hospital. Specifically, I want to look at the ratio\n",
    "$$\\frac{\\textrm{people hospitalised}}{\\textrm{confirmed cases}}$$\n",
    "and how it changes over time.\n",
    "\n",
    "I haven't decided what exactly I'll do with it yet, so for now I only want to get two lists: one with the dates on which the ratio is computed, and another with its corrsponding values."
   ]
  },
  {
   "cell_type": "code",
   "execution_count": null,
   "metadata": {},
   "outputs": [],
   "source": [
    "hosp_conf_dates, hosp_conf_ratio = hospital_vs_confirmed(data_er)\n",
    "for date, ratio in zip(hosp_conf_dates[:5], hosp_conf_ratio[:5]):\n",
    "    print(f\" {date}: {ratio:.2f}\")"
   ]
  },
  {
   "cell_type": "markdown",
   "metadata": {},
   "source": [
    "Plots will be crucial for getting the information across efficiently. Carmen says that this one function is flexible enough to process the data in different ways. One thing I want to see is the evolution of confirmed cases grouped by the patient's sex. This command should plot two lines, one each for male and female:"
   ]
  },
  {
   "cell_type": "code",
   "execution_count": null,
   "metadata": {},
   "outputs": [],
   "source": [
    "create_confirmed_plot(data_er, sex=True)"
   ]
  },
  {
   "cell_type": "markdown",
   "metadata": {},
   "source": [
    "However, I also want to break it down by age instead of sex. In particular, I want to see the cases involving people\n",
    "- up to age 15 (or the age bin they belong to);\n",
    "- up to age 37;\n",
    "- and up to age 99\n",
    "\n",
    "all in the same plot."
   ]
  },
  {
   "cell_type": "code",
   "execution_count": null,
   "metadata": {},
   "outputs": [],
   "source": [
    "create_confirmed_plot(data_er, max_ages=[15, 37, 99])"
   ]
  },
  {
   "cell_type": "markdown",
   "metadata": {},
   "source": [
    "Finally, I want to see if the weather affects how likely people are to get tested. To simplify, I'll consider a day to be \"rainy\" if it rained more than the previous day. Out of those rainy days, on how many were there fewer tests carried out than the previous day? Because the data will be noisy, I first want to smooth the data by replacing each value with the average of the values in a 7-day window around it. Then I will use the smoothened values for this calculation instead of the originals.\n",
    "\n",
    "Carmen says that this one line should do all that:"
   ]
  },
  {
   "cell_type": "code",
   "execution_count": null,
   "metadata": {},
   "outputs": [],
   "source": [
    "ratio = count_high_rain_low_tests_days(data_er)\n",
    "print(f\"A {ratio * 100:6.2f}% of rainy days affected the number of tests\")"
   ]
  },
  {
   "cell_type": "markdown",
   "metadata": {},
   "source": [
    "Let's see what works!"
   ]
  }
 ],
 "metadata": {
  "kernelspec": {
   "display_name": "Python 3",
   "language": "python",
   "name": "python3"
  },
  "language_info": {
   "codemirror_mode": {
    "name": "ipython",
    "version": 3
   },
   "file_extension": ".py",
   "mimetype": "text/x-python",
   "name": "python",
   "nbconvert_exporter": "python",
   "pygments_lexer": "ipython3",
   "version": "3.8.3"
  }
 },
 "nbformat": 4,
 "nbformat_minor": 4
}

